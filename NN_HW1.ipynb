{
 "cells": [
  {
   "cell_type": "code",
   "execution_count": 1,
   "metadata": {},
   "outputs": [],
   "source": [
    "import numpy as np\n",
    "import pandas as pd\n",
    "from matplotlib import pyplot as plt\n",
    "from sklearn import datasets\n",
    "from sklearn.model_selection import train_test_split\n",
    "from fast_ml.model_development import train_valid_test_split\n",
    "import torch\n",
    "import torch.nn as nn\n",
    "import torch.nn.functional as F\n",
    "import torch.utils.data as data\n",
    "import torchvision.datasets as dataset\n",
    "import torchvision.transforms as transforms"
   ]
  },
  {
   "cell_type": "markdown",
   "metadata": {},
   "source": [
    "# Solution 2 :"
   ]
  },
  {
   "cell_type": "markdown",
   "metadata": {},
   "source": [
    "## Importing the data and splitting it in training set, validation set and testing set."
   ]
  },
  {
   "cell_type": "code",
   "execution_count": 2,
   "metadata": {},
   "outputs": [],
   "source": [
    "# Importing the data using sklearn datasets\n",
    "data_Set = datasets.fetch_openml('mnist_784')"
   ]
  },
  {
   "cell_type": "code",
   "execution_count": 3,
   "metadata": {},
   "outputs": [],
   "source": [
    "# Separately taking the value of the data and the target/label\n",
    "X = data_Set.data\n",
    "y = data_Set.target\n",
    "X_Original = X[:60000]\n",
    "y_Original = y[:60000]"
   ]
  },
  {
   "cell_type": "code",
   "execution_count": 4,
   "metadata": {},
   "outputs": [],
   "source": [
    "y_Original = y_Original.astype(np.int64)"
   ]
  },
  {
   "cell_type": "code",
   "execution_count": null,
   "metadata": {},
   "outputs": [],
   "source": [
    "# For checking the type and size of the variables\n",
    "print(type(X_Original))\n",
    "print(type(y_Original))\n",
    "print(X_Original.shape)\n",
    "print(y_Original.shape)"
   ]
  },
  {
   "cell_type": "code",
   "execution_count": 5,
   "metadata": {},
   "outputs": [],
   "source": [
    "# We want to split the data in the ratio of 70:15:15 for training set, validation set and testing set respectively.\n",
    "# We first split the data in training set and remaining set.\n",
    "X_Train, X_Remain, y_Train, y_Remain = train_test_split(X_Original, y_Original, train_size = 0.7)"
   ]
  },
  {
   "cell_type": "code",
   "execution_count": null,
   "metadata": {},
   "outputs": [],
   "source": [
    "# For checking the shape of the training set and remaining set after splitting the original dataset.\n",
    "print(X_Train.shape)\n",
    "print(y_Train.shape)\n",
    "print(X_Remain.shape)\n",
    "print(y_Remain.shape)"
   ]
  },
  {
   "cell_type": "code",
   "execution_count": 6,
   "metadata": {},
   "outputs": [],
   "source": [
    "# Now, we split the remaining set into equal halves to get 15% percent each in the validation set and the testing set.\n",
    "X_Valid, X_Test, y_Valid, y_Test = train_test_split(X_Remain, y_Remain, test_size = 0.5)"
   ]
  },
  {
   "cell_type": "code",
   "execution_count": null,
   "metadata": {},
   "outputs": [],
   "source": [
    "# For checking the shape of the validation set and testing set after splitting the original dataset.\n",
    "print(X_Valid.shape)\n",
    "print(y_Valid.shape)\n",
    "print(X_Test.shape)\n",
    "print(y_Test.shape)"
   ]
  },
  {
   "cell_type": "code",
   "execution_count": null,
   "metadata": {},
   "outputs": [],
   "source": [
    "# For verifying the shape of all the datasets finally\n",
    "print(X_Train.shape)\n",
    "print(y_Train.shape)\n",
    "print(X_Valid.shape)\n",
    "print(y_Valid.shape)\n",
    "print(X_Test.shape)\n",
    "print(y_Test.shape)"
   ]
  },
  {
   "cell_type": "markdown",
   "metadata": {},
   "source": [
    "## Defining all the functions for \n",
    "#### 1. Initializing the parameters\n",
    "#### 2. Activation Function and it's derivative\n",
    "#### 3. Forward Propogation\n",
    "#### 4. Backward Propogation\n",
    "#### 5. Updating the parameters\n",
    "#### 6. Accuracy and Loss\n",
    "#### 7. Predictions"
   ]
  },
  {
   "cell_type": "code",
   "execution_count": 7,
   "metadata": {},
   "outputs": [],
   "source": [
    "# For initializing all the parameters\n",
    "def initialize_Parameters():\n",
    "    w1 = np.random.randn(30, 784) * 0.01\n",
    "    b1 = np.random.randn(30, 1) * 0.01\n",
    "    # b1 = np.zeros([30, 1]) * 0.01\n",
    "    w2 = np.random.randn(10, 30) * 0.01\n",
    "    b2 = np.random.randn(10, 1) * 0.01\n",
    "    # b2 = np.zeros([10,1]) * 0.01\n",
    "    return w1, b1, w2, b2\n",
    "\n",
    "# Sigmoid Activation Function\n",
    "def sigmoid_Activation_Function(x):\n",
    "    return 1 / (1 + np.exp(-x))\n",
    "\n",
    "# For calculating the final output/prediction on the given input and features using forward propogation\n",
    "def forward_Propagation(x, w1, b1, w2, b2):\n",
    "    z1 = np.dot(w1, x.T) + b1\n",
    "    a1 = sigmoid_Activation_Function(z1)\n",
    "    z2 = np.dot(w2, a1) + b2\n",
    "    a2 = sigmoid_Activation_Function(z2)\n",
    "    return z1, a1, z2, a2\n",
    "\n",
    "# For doing one hot encoding on Y\n",
    "def one_Hot_Encoding(y):\n",
    "    one_Hot_Y = np.zeros((y.size, 10))\n",
    "    one_Hot_Y[np.arange(y.size), y] = 1\n",
    "    one_Hot_Y = one_Hot_Y.T\n",
    "    return one_Hot_Y\n",
    "\n",
    "# Derivative of Sigmoid Activation Function\n",
    "def sigmoid_Derivative(x):\n",
    "    return np.multiply(sigmoid_Activation_Function(x), (1 - sigmoid_Activation_Function(x)))\n",
    "\n",
    "# For traversing backwards and calculating the gradients along the way\n",
    "def backward_Propagation(x, y, w1, z1, a1, w2, z2, a2, batch_Size):\n",
    "    one_Hot_Y = one_Hot_Encoding(y)\n",
    "    delta_2 = (1 / batch_Size) * (a2 - one_Hot_Y) * sigmoid_Derivative(z2)\n",
    "    dw2 = np.dot(delta_2, a1.T)\n",
    "    db2 = np.sum(delta_2, axis = 1).reshape(10,-1)\n",
    "    delta_1 = np.dot(w2.T, delta_2) * sigmoid_Derivative(z1)\n",
    "    dw1 = (1 / batch_Size) * np.dot(delta_1, x)\n",
    "    db1 = (1 / batch_Size) * np.sum(delta_1, axis = 1).reshape(30,-1)\n",
    "    return dw1, db1, dw2, db2\n",
    "\n",
    "# For updating the values of parameters with the given learning rate and the gradients calculated\n",
    "def update_Parameters(alpha, w1, dw1, b1, db1, w2, dw2, b2, db2):\n",
    "    w1 = w1 - alpha * dw1\n",
    "    b1 = b1 - alpha * db1\n",
    "    w2 = w2 - alpha * dw2\n",
    "    b2 = b2 - alpha * db2\n",
    "    return w1, b1, w2, b2\n",
    "\n",
    "# For getting the predictions\n",
    "def get_Predictions(a2):\n",
    "    return np.argmax(a2, 1)\n",
    "\n",
    "# For getting the accuracy\n",
    "def get_Accuracy(predictions, y):\n",
    "    return (np.sum(predictions == y) / y.size) * 100\n",
    "\n",
    "# For calculating the loss\n",
    "def mse_Loss(a2, y):\n",
    "    loss = (a2 - y) * (a2 - y)\n",
    "    loss = (1 / y.size) * np.sum(loss)\n",
    "    return loss\n",
    "\n",
    "# For making the predictions on Validation and Testing Data\n",
    "def make_Predictions(x, y, w1, b1, w2, b2):\n",
    "    _, _, _, a2 = forward_Propagation(x, w1, b1, w2, b2)\n",
    "    predictions = get_Predictions(a2.T)\n",
    "    accuracy = get_Accuracy(predictions, y)\n",
    "    loss = mse_Loss(a2.T, one_Hot_Encoding(y).T)\n",
    "    return accuracy, loss\n"
   ]
  },
  {
   "cell_type": "code",
   "execution_count": 23,
   "metadata": {},
   "outputs": [],
   "source": [
    "# Training the model using forward propogation, backward propogation and updating the parameters.\n",
    "# Plotting the graph for the calculated accuracies\n",
    "def stochastic_Gradient_Descent(x, y, alpha, epochs, batch_Size):\n",
    "    w1, b1, w2, b2 = initialize_Parameters()\n",
    "    batches = len(x)//batch_Size\n",
    "    train_Accuracy = []\n",
    "    valid_Accuracy = []\n",
    "    for i in range(epochs):\n",
    "        start_Index = 0\n",
    "        a2_Final = []\n",
    "        for j in range(batches):\n",
    "            end_Index = start_Index + batch_Size\n",
    "            z1, a1, z2, a2 = forward_Propagation(x[start_Index:end_Index], w1, b1, w2, b2)\n",
    "            a2_Temp = a2.T\n",
    "            for k in range(batch_Size):\n",
    "                a2_Final.append(list(a2_Temp[k]))\n",
    "            dw1, db1, dw2, db2 = backward_Propagation(x[start_Index:end_Index], y[start_Index:end_Index], w1, z1, a1, w2, z2, a2, batch_Size)\n",
    "            w1, b1, w2, b2 = update_Parameters(alpha, w1, dw1, b1, db1, w2, dw2, b2, db2)\n",
    "            start_Index = end_Index\n",
    "        epoch_Train_Accuracy = get_Accuracy(get_Predictions(a2_Final), y)\n",
    "        epoch_Train_Loss = mse_Loss(a2_Final, one_Hot_Encoding(y).T)\n",
    "        epoch_Valid_Accuracy, epoch_Valid_Loss = make_Predictions(X_Valid, y_Valid, w1, b1, w2, b2)\n",
    "        train_Accuracy.append(epoch_Train_Accuracy)\n",
    "        valid_Accuracy.append(epoch_Valid_Accuracy)\n",
    "        if i % 10 == 0:\n",
    "            print(\"Iteration :\", i)\n",
    "            print(\"Training Set Accuracy :\", epoch_Train_Accuracy)\n",
    "            print(\"Training Set Loss :\", epoch_Train_Loss)\n",
    "            print(\"Validation Set Accuracy :\", epoch_Valid_Accuracy)\n",
    "            print(\"Vaidation Set Loss :\", epoch_Valid_Loss)\n",
    "    final_Test_Accuracy, final_Test_Loss = make_Predictions(X_Test, y_Test, w1, b1, w2, b2)\n",
    "    print(\"Testing Set Accuracy :\", final_Test_Accuracy)\n",
    "    print(\"Testing Set Loss :\", final_Test_Loss)\n",
    "    # For plotting the graph for accuracies\n",
    "    plt.plot(train_Accuracy, label = \"Training Accuracy\")\n",
    "    plt.plot(valid_Accuracy, label = \"Validation Accuracy\")\n",
    "    plt.legend()\n",
    "    plt.xlabel(\"Number of Epochs\")\n",
    "    plt.ylabel(\"Accuracy\")\n",
    "    plt.title(\"Accuracy Vs Number of Epochs\")\n",
    "    return"
   ]
  },
  {
   "cell_type": "code",
   "execution_count": 28,
   "metadata": {},
   "outputs": [
    {
     "name": "stdout",
     "output_type": "stream",
     "text": [
      "Iteration : 0\n",
      "Training Set Accuracy : 13.695238095238096\n",
      "Training Set Loss : 0.09274633349188757\n",
      "Validation Set Accuracy : 16.433333333333334\n",
      "Vaidation Set Loss : 0.08864847244519347\n",
      "Iteration : 10\n",
      "Training Set Accuracy : 90.40714285714286\n",
      "Training Set Loss : 0.022081808563418796\n",
      "Validation Set Accuracy : 89.62222222222222\n",
      "Vaidation Set Loss : 0.022388438536893224\n",
      "Iteration : 20\n",
      "Training Set Accuracy : 91.99761904761905\n",
      "Training Set Loss : 0.015729244822864172\n",
      "Validation Set Accuracy : 90.54444444444445\n",
      "Vaidation Set Loss : 0.017149767057611835\n",
      "Iteration : 30\n",
      "Training Set Accuracy : 92.62619047619047\n",
      "Training Set Loss : 0.013832519035097012\n",
      "Validation Set Accuracy : 90.75555555555556\n",
      "Vaidation Set Loss : 0.01582594425094082\n",
      "Iteration : 40\n",
      "Training Set Accuracy : 92.98095238095239\n",
      "Training Set Loss : 0.012673288368327406\n",
      "Validation Set Accuracy : 91.05555555555556\n",
      "Vaidation Set Loss : 0.015024001958668211\n",
      "Iteration : 50\n",
      "Training Set Accuracy : 93.31904761904762\n",
      "Training Set Loss : 0.01202050671725871\n",
      "Validation Set Accuracy : 91.67777777777778\n",
      "Vaidation Set Loss : 0.014180144919974182\n",
      "Iteration : 60\n",
      "Training Set Accuracy : 93.68095238095238\n",
      "Training Set Loss : 0.011279583053416543\n",
      "Validation Set Accuracy : 91.73333333333333\n",
      "Vaidation Set Loss : 0.013832424392658629\n",
      "Iteration : 70\n",
      "Training Set Accuracy : 93.8\n",
      "Training Set Loss : 0.010999425275506715\n",
      "Validation Set Accuracy : 91.76666666666667\n",
      "Vaidation Set Loss : 0.013729565792035683\n",
      "Iteration : 80\n",
      "Training Set Accuracy : 94.12142857142857\n",
      "Training Set Loss : 0.010444404687801083\n",
      "Validation Set Accuracy : 91.67777777777778\n",
      "Vaidation Set Loss : 0.01339208542811586\n",
      "Iteration : 90\n",
      "Training Set Accuracy : 94.35952380952381\n",
      "Training Set Loss : 0.010018073889725407\n",
      "Validation Set Accuracy : 91.95555555555556\n",
      "Vaidation Set Loss : 0.013425665430224863\n",
      "Iteration : 100\n",
      "Training Set Accuracy : 94.54285714285714\n",
      "Training Set Loss : 0.009600379751460322\n",
      "Validation Set Accuracy : 91.67777777777778\n",
      "Vaidation Set Loss : 0.013333293060596026\n",
      "Iteration : 110\n",
      "Training Set Accuracy : 94.53571428571429\n",
      "Training Set Loss : 0.009528842811239327\n",
      "Validation Set Accuracy : 91.84444444444443\n",
      "Vaidation Set Loss : 0.013218787004027292\n",
      "Iteration : 120\n",
      "Training Set Accuracy : 94.62857142857143\n",
      "Training Set Loss : 0.009417555471769862\n",
      "Validation Set Accuracy : 91.91111111111111\n",
      "Vaidation Set Loss : 0.012866659890664134\n",
      "Iteration : 130\n",
      "Training Set Accuracy : 94.89047619047619\n",
      "Training Set Loss : 0.009098322797277477\n",
      "Validation Set Accuracy : 91.87777777777778\n",
      "Vaidation Set Loss : 0.013024439878130772\n",
      "Iteration : 140\n",
      "Training Set Accuracy : 94.97380952380952\n",
      "Training Set Loss : 0.008860420858425025\n",
      "Validation Set Accuracy : 91.83333333333333\n",
      "Vaidation Set Loss : 0.012969119534126038\n",
      "Iteration : 150\n",
      "Training Set Accuracy : 95.11904761904762\n",
      "Training Set Loss : 0.008569798791678325\n",
      "Validation Set Accuracy : 92.0\n",
      "Vaidation Set Loss : 0.012954423132167788\n",
      "Testing Set Accuracy : 91.78888888888889\n",
      "Testing Set Loss : 0.012982072595637011\n"
     ]
    },
    {
     "data": {
      "image/png": "[encoded data removed]",
      "text/plain": [
       "<Figure size 432x288 with 1 Axes>"
      ]
     },
     "metadata": {
      "needs_background": "light"
     },
     "output_type": "display_data"
    }
   ],
   "source": [
    "# Calling the function\n",
    "stochastic_Gradient_Descent(X_Train, y_Train, 0.005, 151, 8)"
   ]
  },
  {
   "cell_type": "markdown",
   "metadata": {},
   "source": [
    "# Solution 3 :"
   ]
  },
  {
   "cell_type": "markdown",
   "metadata": {},
   "source": [
    "## Importing the data and splitting it in training set, validation set and testing set."
   ]
  },
  {
   "cell_type": "code",
   "execution_count": 10,
   "metadata": {},
   "outputs": [],
   "source": [
    "# Importing the dataset using torchvision datasets\n",
    "input_Data_PT = dataset.MNIST(root = './data', train = True, download = True, transform = transforms.ToTensor())"
   ]
  },
  {
   "cell_type": "code",
   "execution_count": 11,
   "metadata": {},
   "outputs": [
    {
     "name": "stdout",
     "output_type": "stream",
     "text": [
      "60000\n"
     ]
    }
   ],
   "source": [
    "# For checking the length of the dataset\n",
    "print(len(input_Data_PT))"
   ]
  },
  {
   "cell_type": "code",
   "execution_count": 12,
   "metadata": {},
   "outputs": [],
   "source": [
    "# For splitting the data in the ratio of 70:15:15 for training set, validation set and testing set respectively.\n",
    "train_Data_Length = int(0.70 * len(input_Data_PT))\n",
    "valid_Data_Length = int(0.15 * len(input_Data_PT))\n",
    "test_Data_Length = int(0.15 * len(input_Data_PT))"
   ]
  },
  {
   "cell_type": "code",
   "execution_count": 13,
   "metadata": {},
   "outputs": [
    {
     "name": "stdout",
     "output_type": "stream",
     "text": [
      "42000\n",
      "9000\n",
      "9000\n"
     ]
    }
   ],
   "source": [
    "# For checking the length after calculation\n",
    "print(train_Data_Length)\n",
    "print(valid_Data_Length)\n",
    "print(test_Data_Length)"
   ]
  },
  {
   "cell_type": "code",
   "execution_count": 14,
   "metadata": {},
   "outputs": [],
   "source": [
    "# For splitting the data in the ratio of 70:15:15 for training set, validation set and testing set respectively.\n",
    "train_Data, valid_Data, test_Data = data.random_split(input_Data_PT, [train_Data_Length, valid_Data_Length, test_Data_Length], generator = torch.Generator().manual_seed(7))"
   ]
  },
  {
   "cell_type": "code",
   "execution_count": 39,
   "metadata": {},
   "outputs": [],
   "source": [
    "# For loading the data in DataLoader format\n",
    "train_Data_Loader = data.DataLoader(train_Data, batch_size = 8, shuffle = True)\n",
    "train_Data_Loader_Full = data.DataLoader(train_Data, batch_size = len(train_Data), shuffle = True)\n",
    "valid_Data_Loader = data.DataLoader(valid_Data, batch_size = len(valid_Data), shuffle = True)\n",
    "test_Data_Loader = data.DataLoader(test_Data, batch_size = len(test_Data), shuffle = True)"
   ]
  },
  {
   "cell_type": "markdown",
   "metadata": {},
   "source": [
    "## Defining the Neural Network"
   ]
  },
  {
   "cell_type": "code",
   "execution_count": 40,
   "metadata": {},
   "outputs": [],
   "source": [
    "# Defining the function, loss, optimizer and epochs\n",
    "neural_Network_PT = torch.nn.Sequential(nn.Linear(784, 30), nn.Sigmoid(), nn.Linear(30, 10), nn.Sigmoid())\n",
    "loss_PT = nn.MSELoss()\n",
    "optimization_PT = torch.optim.SGD(neural_Network_PT.parameters(), lr = 0.005)\n",
    "epochs_PT = 31"
   ]
  },
  {
   "cell_type": "code",
   "execution_count": 41,
   "metadata": {},
   "outputs": [],
   "source": [
    "# For calculating the accuracy and loss on validation set and testing set\n",
    "def get_Accuracy_And_Loss(data_Loader):\n",
    "    for _, dataset in enumerate(data_Loader):\n",
    "        X, y = dataset\n",
    "        y_hat = neural_Network_PT(X.view(-1, 784))\n",
    "        accuracy = 100 * (torch.argmax(y_hat, dim = 1) == y).sum() / len(X)\n",
    "        loss = loss_PT(y_hat, F.one_hot(y, num_classes = 10).float())\n",
    "    return accuracy, loss"
   ]
  },
  {
   "cell_type": "markdown",
   "metadata": {},
   "source": [
    "## Training the Neural Network"
   ]
  },
  {
   "cell_type": "code",
   "execution_count": 42,
   "metadata": {},
   "outputs": [],
   "source": [
    "# For training the model and plotiing the accuracies\n",
    "def stochastic_Gradient_Descent_PT(epochs_PT):\n",
    "    train_Accuracy_PT = []\n",
    "    valid_Accuracy_PT = []\n",
    "    for i in range(epochs_PT):\n",
    "        for _, dataset in enumerate(train_Data_Loader):\n",
    "            X_Train_PT, y_Train_PT = dataset\n",
    "            y_hat = neural_Network_PT(X_Train_PT.view(-1, 784))\n",
    "            train_Loss = loss_PT(y_hat, F.one_hot(y_Train_PT, num_classes = 10).float())\n",
    "            optimization_PT.zero_grad()\n",
    "            train_Loss.backward()\n",
    "            optimization_PT.step()\n",
    "        epoch_Train_Accuracy_PT, epoch_Train_Loss_PT = get_Accuracy_And_Loss(train_Data_Loader_Full)\n",
    "        epoch_Valid_Accuracy_PT, epoch_Valid_Loss_PT = get_Accuracy_And_Loss(valid_Data_Loader)\n",
    "        train_Accuracy_PT.append(epoch_Train_Accuracy_PT)\n",
    "        valid_Accuracy_PT.append(epoch_Valid_Accuracy_PT)\n",
    "        if i % 10 == 0:\n",
    "                print(\"Iteration :\", i)\n",
    "                print(\"Training Set Accuracy :\", epoch_Train_Accuracy_PT)\n",
    "                print(\"Training Set Loss :\", epoch_Train_Loss_PT)\n",
    "                print(\"Validation Set Accuracy :\", epoch_Valid_Accuracy_PT)\n",
    "                print(\"Vaidation Set Loss :\", epoch_Valid_Loss_PT)\n",
    "    final_Test_Accuracy_PT, final_Test_Loss_PT = get_Accuracy_And_Loss(test_Data_Loader)\n",
    "    print(\"Testing Set Accuracy :\", final_Test_Accuracy_PT)\n",
    "    print(\"Testing Set Loss :\", final_Test_Loss_PT)\n",
    "    # For plotting the graph for accuracies\n",
    "    plt.plot(train_Accuracy_PT, label = \"Training Accuracy\")\n",
    "    plt.plot(valid_Accuracy_PT, label = \"Validation Accuracy\")\n",
    "    plt.legend()\n",
    "    plt.xlabel(\"Number of Epochs\")\n",
    "    plt.ylabel(\"Accuracy\")\n",
    "    plt.title(\"Accuracy Vs Number of Epochs\")\n",
    "    return\n",
    "    "
   ]
  },
  {
   "cell_type": "code",
   "execution_count": 43,
   "metadata": {},
   "outputs": [
    {
     "name": "stdout",
     "output_type": "stream",
     "text": [
      "Iteration : 0\n",
      "Training Set Accuracy : tensor(20.2833)\n",
      "Training Set Loss : tensor(0.0925, grad_fn=<MseLossBackward0>)\n",
      "Validation Set Accuracy : tensor(19.9000)\n",
      "Vaidation Set Loss : tensor(0.0925, grad_fn=<MseLossBackward0>)\n",
      "Iteration : 10\n",
      "Training Set Accuracy : tensor(32.6595)\n",
      "Training Set Loss : tensor(0.0871, grad_fn=<MseLossBackward0>)\n",
      "Validation Set Accuracy : tensor(32.7778)\n",
      "Vaidation Set Loss : tensor(0.0871, grad_fn=<MseLossBackward0>)\n",
      "Iteration : 20\n",
      "Training Set Accuracy : tensor(38.6310)\n",
      "Training Set Loss : tensor(0.0785, grad_fn=<MseLossBackward0>)\n",
      "Validation Set Accuracy : tensor(38.7333)\n",
      "Vaidation Set Loss : tensor(0.0785, grad_fn=<MseLossBackward0>)\n",
      "Iteration : 30\n",
      "Training Set Accuracy : tensor(60.0762)\n",
      "Training Set Loss : tensor(0.0654, grad_fn=<MseLossBackward0>)\n",
      "Validation Set Accuracy : tensor(60.3111)\n",
      "Vaidation Set Loss : tensor(0.0655, grad_fn=<MseLossBackward0>)\n",
      "Testing Set Accuracy : tensor(60.8778)\n",
      "Testing Set Loss : tensor(0.0650, grad_fn=<MseLossBackward0>)\n"
     ]
    },
    {
     "data": {
      "image/png": "[encoded data removed]",
      "text/plain": [
       "<Figure size 432x288 with 1 Axes>"
      ]
     },
     "metadata": {
      "needs_background": "light"
     },
     "output_type": "display_data"
    }
   ],
   "source": [
    "# Calling the function\n",
    "stochastic_Gradient_Descent_PT(31)"
   ]
  },
  {
   "cell_type": "markdown",
   "metadata": {},
   "source": [
    "### From the above two results we can see that we get the different accuracies for a batchsize of 8 and 31 epochs using implementation from scratch and using pytorch.\n",
    "#### *Note : It gets more similiar for smaller batchsize and more epochs but it was crashing my laptop."
   ]
  },
  {
   "cell_type": "markdown",
   "metadata": {},
   "source": [
    "# Solution 4 :"
   ]
  },
  {
   "cell_type": "markdown",
   "metadata": {},
   "source": [
    "## Improving the training process "
   ]
  },
  {
   "cell_type": "code",
   "execution_count": 44,
   "metadata": {},
   "outputs": [],
   "source": [
    "# Changing the loss function and optimizer to improve the neural network\n",
    "neural_Network_PT = torch.nn.Sequential(nn.Linear(784, 30), nn.Sigmoid(), nn.Linear(30, 10), nn.Sigmoid())\n",
    "loss_PT = nn.CrossEntropyLoss()\n",
    "optimization_PT = torch.optim.Adam(neural_Network_PT.parameters(), lr = 0.005)\n",
    "epochs_PT = 31"
   ]
  },
  {
   "cell_type": "code",
   "execution_count": 45,
   "metadata": {},
   "outputs": [
    {
     "name": "stdout",
     "output_type": "stream",
     "text": [
      "Iteration : 0\n",
      "Training Set Accuracy : tensor(92.8286)\n",
      "Training Set Loss : tensor(1.5337, grad_fn=<DivBackward1>)\n",
      "Validation Set Accuracy : tensor(92.1556)\n",
      "Vaidation Set Loss : tensor(1.5420, grad_fn=<DivBackward1>)\n",
      "Iteration : 10\n",
      "Training Set Accuracy : tensor(96.2333)\n",
      "Training Set Loss : tensor(1.4958, grad_fn=<DivBackward1>)\n",
      "Validation Set Accuracy : tensor(93.7889)\n",
      "Vaidation Set Loss : tensor(1.5183, grad_fn=<DivBackward1>)\n",
      "Iteration : 20\n",
      "Training Set Accuracy : tensor(96.5929)\n",
      "Training Set Loss : tensor(1.4910, grad_fn=<DivBackward1>)\n",
      "Validation Set Accuracy : tensor(94.2444)\n",
      "Vaidation Set Loss : tensor(1.5165, grad_fn=<DivBackward1>)\n",
      "Iteration : 30\n",
      "Training Set Accuracy : tensor(96.9143)\n",
      "Training Set Loss : tensor(1.4870, grad_fn=<DivBackward1>)\n",
      "Validation Set Accuracy : tensor(94.2333)\n",
      "Vaidation Set Loss : tensor(1.5161, grad_fn=<DivBackward1>)\n",
      "Testing Set Accuracy : tensor(94.8000)\n",
      "Testing Set Loss : tensor(1.5093, grad_fn=<DivBackward1>)\n"
     ]
    },
    {
     "data": {
      "image/png": "[encoded data removed]",
      "text/plain": [
       "<Figure size 432x288 with 1 Axes>"
      ]
     },
     "metadata": {
      "needs_background": "light"
     },
     "output_type": "display_data"
    }
   ],
   "source": [
    "#Calling the function\n",
    "stochastic_Gradient_Descent_PT(31)"
   ]
  }
 ],
 "metadata": {
  "interpreter": {
   "hash": "99bbffbaaf45d2d2092f89ad7588eb71c8663e29a849825f822adb255c514810"
  },
  "kernelspec": {
   "display_name": "Python 3.9.7 64-bit",
   "language": "python",
   "name": "python3"
  },
  "language_info": {
   "codemirror_mode": {
    "name": "ipython",
    "version": 3
   },
   "file_extension": ".py",
   "mimetype": "text/x-python",
   "name": "python",
   "nbconvert_exporter": "python",
   "pygments_lexer": "ipython3",
   "version": "3.9.7"
  },
  "orig_nbformat": 4
 },
 "nbformat": 4,
 "nbformat_minor": 2
}
